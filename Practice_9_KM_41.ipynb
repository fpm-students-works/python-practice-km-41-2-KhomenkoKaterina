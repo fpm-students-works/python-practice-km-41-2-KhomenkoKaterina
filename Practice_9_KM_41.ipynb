{
  "cells": [
    {
      "cell_type": "markdown",
      "metadata": {
        "id": "FMqboNwO4rVs"
      },
      "source": [
        "# **Курс \"Програмування на мові Python\"**"
      ]
    },
    {
      "cell_type": "markdown",
      "metadata": {
        "id": "A2T6MigL5Z06"
      },
      "source": [
        "## **Практичне зайняття №9**\n",
        "\n",
        "### Тема: \"Робота з функціями. Локальні та глобальні змінні\""
      ]
    },
    {
      "cell_type": "markdown",
      "metadata": {
        "id": "cfCdgK2zXm7e"
      },
      "source": [
        "### **Завдання 1 (3 бали)**\n",
        "\n",
        "**Підрахувати визначник матриці, використовуючи правило перестановок.**\n",
        "\n",
        "Функція random_matrix() призначена для створення квадратної матриці випадкових чисел. Її змінювати непотрібно.\n",
        "\n",
        "Приклад використання методу permutations() для створення списку перестановок також подається у комірці з кодом.\n",
        "\n",
        "1) Створити 3 функції: функцію створення списку перестановок, функцію підрахунку добутків та функцію підрахунку загальної суми.\n",
        "\n",
        "2) Кожна функція має супроводжуватись рядком документації, що буде коротко описувати її призначення.\n",
        "\n",
        "3) Розмірність квадратної матриці має вводитись користувачем з клавіатури. Підрахунки виконувати лише в тому разі, якщо користувач введе ціле додатне число.\n",
        "\n",
        "4) Загальний результат повинен підраховуватись за допомогою композиції функцій.\n",
        "\n",
        "За бажанням можна перевірити правильність роботи програми за допомогою функції np.linalg.det(a)."
      ]
    },
    {
      "cell_type": "code",
      "execution_count": 1,
      "metadata": {
        "id": "ifNX2M7LXm7f"
      },
      "outputs": [],
      "source": [
        "while True:       \n",
        "    try:\n",
        "        import numpy as np\n",
        "        import itertools\n",
        "\n",
        "        dim1 = int(input(\"Введіть порядок матриці: \"))            \n",
        "\n",
        "        def random_matrix(dim):\n",
        "            \"\"\"\n",
        "            The function generates a dim x dim array of integers\n",
        "            between 0 and 10.\n",
        "            \"\"\"\n",
        "            matrix = np.random.randint(10, size=(dim, dim))\n",
        "            return matrix\n",
        "\n",
        "        def permutations(l):\n",
        "            \"\"\"\n",
        "            Створює список усіх перестановок чисел від 0 до n.\n",
        "            \"\"\"\n",
        "            t = list(itertools.permutations(range(l)))\n",
        "            return t\n",
        "\n",
        "        def multiply_elements(matrix, perm):\n",
        "            \"\"\"\n",
        "            Обчислює добуток елементів матриці відповідно до перестановки.\n",
        "            \"\"\"\n",
        "            result = 1\n",
        "            for i in range(len(perm)):\n",
        "                result *= matrix[i][perm[i]]\n",
        "            return result\n",
        "\n",
        "        def sign_of_permutation(perm):\n",
        "            \"\"\"\n",
        "            Обчислює знак перестановки.\n",
        "            \"\"\"\n",
        "            sign = 1\n",
        "            n = len(perm)\n",
        "            for i in range(n):\n",
        "                for j in range(i + 1, n):\n",
        "                    if perm[i] > perm[j]:\n",
        "                        sign *= -1\n",
        "            return sign\n",
        "\n",
        "        def calc_determinant(matrix):\n",
        "            \"\"\"\n",
        "            Обчислює визначник матриці за допомогою правила перестановок.\n",
        "            \"\"\"\n",
        "            det = 0\n",
        "            perm = permutations(len(matrix))\n",
        "            for p in perm:\n",
        "                det += (sign_of_permutation(p) * multiply_elements(matrix, p))\n",
        "            return det\n",
        "\n",
        "        matrix = random_matrix(dim1)\n",
        "        print(f\"Матриця: \\n{matrix}\")\n",
        "        determinant = calc_determinant(matrix)\n",
        "        print(f\"Детермінант матриці: {determinant}\")\n",
        "\n",
        "        break\n",
        "    except ValueError:\n",
        "            print(\"Помилка!Не може бути порядком матриці. Введіть число\")"
      ]
    }
  ],
  "metadata": {
    "colab": {
      "collapsed_sections": [],
      "name": "Practice_7_KM-01_.ipynb",
      "provenance": []
    },
    "kernelspec": {
      "display_name": "Python 3.10.2 64-bit",
      "language": "python",
      "name": "python3"
    },
    "language_info": {
      "codemirror_mode": {
        "name": "ipython",
        "version": 3
      },
      "file_extension": ".py",
      "mimetype": "text/x-python",
      "name": "python",
      "nbconvert_exporter": "python",
      "pygments_lexer": "ipython3",
      "version": "3.12.5"
    },
    "vscode": {
      "interpreter": {
        "hash": "26de051ba29f2982a8de78e945f0abaf191376122a1563185a90213a26c5da77"
      }
    }
  },
  "nbformat": 4,
  "nbformat_minor": 0
}
