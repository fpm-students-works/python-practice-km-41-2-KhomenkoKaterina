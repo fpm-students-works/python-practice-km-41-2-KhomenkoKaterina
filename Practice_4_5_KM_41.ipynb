{
  "cells": [
    {
      "cell_type": "markdown",
      "metadata": {
        "id": "1bRxWHr5e8kt"
      },
      "source": [
        "# **Курс \"Програмування на мові Python\"**"
      ]
    },
    {
      "cell_type": "markdown",
      "metadata": {
        "id": "buZUwUgFe-kx"
      },
      "source": [
        "## **Практичні зайняття №4-5**\n",
        "### Тема: \"Перші програми на Python. Введення та виведення даних. Інструкція if. Цикли. Робота зі списками\""
      ]
    },
    {
      "cell_type": "markdown",
      "metadata": {
        "id": "PUkxEn8EfAUe"
      },
      "source": [
        "### **Завдання 1 (1,5 бали)**\n",
        "\n"
      ]
    },
    {
      "cell_type": "markdown",
      "metadata": {
        "id": "M7jjwxAvfKa2"
      },
      "source": [
        "**Написати програму введення та виведення даних про одержувача листа (посилки) за стандартами Укрпошти.**\n",
        "\n",
        "1. Усі запити на введення даних повинні супроводжуватись відповідними підказками-поясненнями (бажано англійською мовою).\n",
        "\n",
        "2. Дані мають виводитись так, як показано нижче (з урахуванням кількості рядків та послідовності даних у кожному з них).\n",
        "\n",
        "3. Дані, виділені жирним шрифтом, повинні вводитись із клавіатури. Всього має бути 9 окремих команд введення даних\n",
        "\n",
        "4. Назви змінних повинні бути інформативними та оформленими відповідно до правил іменування змінних\n",
        "\n",
        "5. Додати 2 коментарі, що вказують на блоки введення та виведення даних.\n",
        "\n",
        "***Формат виведення даних:***\n",
        "\n",
        "(1) **Ім'я** (2) **Прізвище**\n",
        "\n",
        "(3) **Номер телефону**\n",
        "\n",
        "Str. (4) **Назва вулиці** (5) **Номер будинку**, ap. (6) **Номер квартири**, (7) **Місто**\n",
        "\n",
        "(8) **Індекс**\n",
        "\n",
        "(9) **Країна**\n",
        "\n",
        "***Приклад виведення:***\n",
        "\n",
        "*Lucas Diallo*\n",
        "\n",
        "*3221234567*\n",
        "\n",
        "*Str. Longue 3, ap. 5, Bruxelles*\n",
        "\n",
        "*1020*\n",
        "\n",
        "*Belgium*"
      ]
    },
    {
      "cell_type": "code",
      "execution_count": 1,
      "metadata": {},
      "outputs": [],
      "source": [
        "name = input(\"First name: \")\n",
        "last_name = input(\"Last name: \")\n",
        "phone = input(\"Phone number: \")\n",
        "street = input(\"Street name: \")            # введення данних\n",
        "number_b = input(\"Building number: \")\n",
        "ap_num = input (\"Apartment number: \")\n",
        "city = input(\"Sity: \")\n",
        "index = input(\"Index: \")\n",
        "country = input(\"Country: \")\n",
        "\n",
        "print(f\"{name} {last_name}\")\n",
        "\n",
        "print(phone)\n",
        "\n",
        "print(f\"Str. {street} {number_b}, ap. {ap_num}, {city}\")\n",
        "\n",
        "print(index)       #виведення данних\n",
        "\n",
        "print(country)\n"
      ]
    },
    {
      "cell_type": "markdown",
      "metadata": {
        "id": "WmnpKrmPf689"
      },
      "source": [
        "### **Завдання 2 (1,5 бали)**"
      ]
    },
    {
      "cell_type": "markdown",
      "metadata": {
        "id": "4n4p_pz7gFKM"
      },
      "source": [
        "Таблиця містить магнітуду землетрусів за шкалою Ріхтера та дескриптори, що їй відповідають.\n",
        "\n",
        "Магнітуда | Дескриптор\n",
        "--- | ---\n",
        "Менше, ніж 2 | Micro\n",
        "Від 2 до менше ніж 3 | Very minor\n",
        "Від 3 до менше ніж 4 | Minor\n",
        "Від 4 до менше ніж 5 | Light\n",
        "Від 5 до менше ніж 6 | Moderate\n",
        "Від 6 до менше ніж 7 | Strong\n",
        "Від 7 до менше ніж 8 | Major\n",
        "Від 8 до менше ніж 10 | Great\n",
        "10 та більше | Meteoric\n",
        "\n",
        "Напишіть програму, яка буде зчитувати магнітуду, введену користувачем, та виводити відповідний дескриптор як частину змістовного повідомлення. Наприклад, якщо користувач вводить 5.5, ваша програма повинна показати, що землетрус з такою магнітудою є помірним (moderate)."
      ]
    },
    {
      "cell_type": "code",
      "execution_count": null,
      "metadata": {
        "id": "Nv66Jkkpf-sI"
      },
      "outputs": [],
      "source": [
        "magnitude = float(input(\"Earthquake magnitude: \"))      # вводить дані\n",
        "\n",
        "#виконання умови\n",
        "if magnitude < 0:\n",
        "    descrip = \"Magnitude can't be negative!\"\n",
        "elif magnitude < 2:\n",
        "    descrip = \"Micro\"\n",
        "elif 2 <= magnitude < 3:\n",
        "    descrip = \"Very minor\"\n",
        "elif 3 <= magnitude < 4:\n",
        "    descrip = \"Minor\"\n",
        "elif 4 <= magnitude < 5:\n",
        "    descrip = \"Light\"\n",
        "elif 5 <= magnitude < 6:\n",
        "    descrip = \"Moderate\"\n",
        "elif 6 <= magnitude < 7:\n",
        "    descrip = \"Strong\"\n",
        "elif 7 <= magnitude < 8:\n",
        "    descrip = \"Major\"\n",
        "elif 8 <= magnitude < 10:\n",
        "    descrip = \"Great\"\n",
        "else:\n",
        "    descrip = \"Meteoric\"\n",
        "    \n",
        "print(f\"Earthquake descriptor: {descrip}\")    #вивід данних\n"
      ]
    },
    {
      "cell_type": "markdown",
      "metadata": {
        "id": "X8fC_GM_nMRi"
      },
      "source": [
        "### **Завдання 3 (бонусне, 1 бал)**"
      ]
    },
    {
      "cell_type": "markdown",
      "metadata": {
        "id": "b593txPwotgN"
      },
      "source": [
        "Часто говорять, що один календарний рік еквівалентний 7 рокам для собаки. Однак таке просте перетворення не враховує того, що собаки досягають повноліття приблизно у 2 роки. Тому деякі люди вважать, що краще рахувати кожен з перших двох календарних років як 10,5 років для собаки, а потім рахувати кожен наступний календарний рік як 4 роки для собаки.\n",
        "\n",
        "Напишіть програму, яка конвертує календарні роки у \"собачі\", як було показано в попередньому абзаці. Переконайтесь, що ваша програма працює правильно, конвертуючи перші два календарні роки та всі подальші. Ваша програма також повинна виводити повідомлення про помилку, якщо користувач введе від'ємне число."
      ]
    },
    {
      "cell_type": "code",
      "execution_count": null,
      "metadata": {
        "id": "PA_E_H0Zosu0"
      },
      "outputs": [],
      "source": [
        "year = float(input(\"Calendar year:\")) #ввід данних\n",
        "#виконання умови\n",
        "if year<0:\n",
        "    print(\"Age must be posetive\")\n",
        "elif year>=2:\n",
        "    dog_age=year*10.5\n",
        "    \n",
        "else:\n",
        "    dog_age=year*4\n",
        "print(f\"If the calendar years is {year}, then the dog's age is {dog_age}\")     #вивід данних\n"
      ]
    },
    {
      "cell_type": "markdown",
      "metadata": {},
      "source": [
        "### **Завдання 4 (1,5 бали)**"
      ]
    },
    {
      "cell_type": "markdown",
      "metadata": {},
      "source": [
        "Керівництво будівельної компанії вирішило підняти заробітні плати всім своїм працівникам на 30%. В залежності від спеціалізації та стажу працівники мають різну заробітну плату. Для підготовки звіту необхідно розрахувати нову заробітну плату для працівників компанії, а також суму індексації.\n",
        "\n",
        "Написати програму, яка буде генерувати таблицю для цього звіту. Початкова заробітна плата працівників подана у списку salary_list (у тисячах гривень).\n",
        "\n",
        "1. Для підрахунку невідомих значень та їх виведення повинен використовуватись цикл.\n",
        "\n",
        "2. Зарплата після індексації та сума індексації для працівників різних категорій повинні зберігатись у двох окремих списках. Порядок значень у кожному з нових списків повинен відповідати порядку значень у списку salary_list.\n",
        "\n",
        "3. Кожне підраховане числове значення має бути округлене до сотих. Для цього слід використати функцію round(). Приклад застосування цієї функції:\n",
        "\n",
        "```\n",
        "value_new = round(2.3741, 2)\n",
        "print(value_new)\n",
        "```\n",
        "\n",
        "4. Дані повинні виводитись у вигляді:\n",
        "\n",
        "**Salary table:**\n",
        "\n",
        "**7.3 9.49 2.19**\n",
        "\n",
        "**8.5 11.05 2.55**\n",
        "\n",
        "**...**\n",
        "\n",
        "salary_list = [7.3, 8.5, 11, 12.7, 15.2, 21.12, 27.35]"
      ]
    },
    {
      "cell_type": "code",
      "execution_count": null,
      "metadata": {},
      "outputs": [],
      "source": [
        "salary_list = [7.3, 8.5, 11, 12.7, 15.2, 21.12, 27.35]   # ввід данних\n",
        "\n",
        "# розраховуємо проіндексовані зарплати зі збільшенням на 30% та округлюємо до 2 знаків\n",
        "index_salaries = [round(salary * 1.30, 2) for salary in salary_list] \n",
        "increase_amounts = [round(salary * 0.30, 2) for salary in salary_list]  # розраховуємо суму збільшення зарплати (30% від кожної зарплати)\n",
        "\n",
        "print(\"Salary table:\") \n",
        "for i in range(len(salary_list)): \n",
        "   print(f\"{salary_list[i]} {index_salaries[i]} {increase_amounts[i]}\")             # виводимо початкову зарплату, проіндексовану зарплату та суму збільшення для кожної\n"
      ]
    },
    {
      "cell_type": "markdown",
      "metadata": {},
      "source": [
        "### **Завдання 5 (1,5 бали)**"
      ]
    },
    {
      "cell_type": "markdown",
      "metadata": {},
      "source": [
        "Перелічуючи деякі предмети у тексті, ми ставимо між ними коми. В англійській мові слово and зазвичай ставлять між останнім та передостаннім словом у переліку (за виключенням випадку, коли у списку всього одне слово). Розглянемо 4 приклади:\n",
        "\n",
        "**apples**\n",
        "\n",
        "**apples and oranges**\n",
        "\n",
        "**apples, oranges and bananas**\n",
        "\n",
        "**apples, oranges, bananas and lemons**\n",
        "\n",
        "Напишіть програму, яка:\n",
        "\n",
        "1. отримує на вхід перелік деяких предметів, які користувач вводить з клавіатури, та записує їх у список у вигляді окремих елементів;\n",
        "\n",
        "2. виводить ці предмети у тій самій послідовності, в якій вони були введені, розставляючи коми та слово and так, як показано у прикладі."
      ]
    },
    {
      "cell_type": "code",
      "execution_count": null,
      "metadata": {},
      "outputs": [],
      "source": [
        " \n",
        "items = input(\"Введіть елементи: \").split()   # вводимо данні\n",
        "if len(items) == 1:  # якщо в списку тільки один елемент, виводимо його без змін\n",
        "    print(items[0])\n",
        "elif len(items) == 2:  # якщо в списку два елементи, виводимо їх, розділені словом \"and\"\n",
        "    print((items[0]),' and ',(items[1]))\n",
        "# якщо в списку три або більше елементів, виводимо їх через кому, додаючи \"and\" перед останнім елементом\n",
        "else:\n",
        "    print(', '.join(items[:-1]) + ' and ' + items[-1])"
      ]
    }
  ],
  "metadata": {
    "colab": {
      "collapsed_sections": [],
      "name": "Pranctice_3_KM-01_<name>.ipynb",
      "provenance": []
    },
    "kernelspec": {
      "display_name": "Python 3.10.2 ('tags_scraping': venv)",
      "language": "python",
      "name": "python3"
    },
    "language_info": {
      "codemirror_mode": {
        "name": "ipython",
        "version": 3
      },
      "file_extension": ".py",
      "mimetype": "text/x-python",
      "name": "python",
      "nbconvert_exporter": "python",
      "pygments_lexer": "ipython3",
      "version": "3.12.5"
    },
    "vscode": {
      "interpreter": {
        "hash": "71c7f1ec1d8cacaccd285cd22952b58f348b42ff78b3ec0871da3b76186664ce"
      }
    }
  },
  "nbformat": 4,
  "nbformat_minor": 2
}
