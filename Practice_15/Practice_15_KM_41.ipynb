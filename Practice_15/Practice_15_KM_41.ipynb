{
  "cells": [
    {
      "cell_type": "markdown",
      "metadata": {
        "id": "FMqboNwO4rVs"
      },
      "source": [
        "# **Курс \"Програмування на мові Python\"**"
      ]
    },
    {
      "cell_type": "markdown",
      "metadata": {
        "id": "A2T6MigL5Z06"
      },
      "source": [
        "## **Практичне зайняття №13**\n",
        "\n",
        "### Тема: \"Робота з файлами\""
      ]
    },
    {
      "cell_type": "markdown",
      "metadata": {
        "id": "cfCdgK2zXm7e"
      },
      "source": [
        "### **Завдання 1 (1,5 бали)**\n",
        "\n",
        "У 1939 році друком вийшов роман американського письменика Ернеста Вінсента Райта \"Ґетсбі\". Особливу увагу публіки він здобув через те, що письменник жодного разу не використав у романі літеру \"e\" (роман складається з більше ніж 50,000 слів), яка є найбільш вживаною літерою в англійській мові.\n",
        "\n",
        "Порахуйте кількість входжень кожної літери у текст роману. Виведіть список літер англійського алфавіту, а також інформацію про те, скільки відсотків від усіх літер тексту складає кожна літера алфавіту.\n",
        "\n",
        "Зауваження:\n",
        "\n",
        "1. Програма має ігнорувати будь-які символи, окрім літер.\n",
        "\n",
        "2. Переведіть усі літери у верхній або у нижній регістр.\n",
        "\n",
        "3. Під час виведення відсортуйте літери у порядку зменшення їхнього відсотка. Літера \"e\" має стояти на останньому місці у цьому списку (хоча кілька літер e там все ж таки зустрічається).\n",
        "\n",
        "4. Виведіть перші 5 та останні 5 літер відсортованого списку разом з відсотковими значеннями, що їм відповідають. Відсотки округліть до тисячних."
      ]
    },
    {
      "cell_type": "code",
      "execution_count": 3,
      "metadata": {
        "id": "u4-fHJJ6U462",
        "tags": [
          "outputPrepend"
        ]
      },
      "outputs": [
        {
          "name": "stdout",
          "output_type": "stream",
          "text": [
            "перші 5 літер:\n",
            "A: 10.952% (23231)\n",
            "O: 10.419% (22100)\n",
            "I: 8.825% (18720)\n",
            "N: 8.597% (18236)\n",
            "T: 8.494% (18017)\n",
            "\n",
            "Останні 5 літер:\n",
            "J: 0.23% (487)\n",
            "Z: 0.107% (228)\n",
            "X: 0.079% (168)\n",
            "Q: 0.051% (109)\n",
            "E: 0.002% (4)\n"
          ]
        }
      ],
      "source": [
        "import string\n",
        "\n",
        "with open('gadsby.txt', 'r', encoding='utf-8') as file:\n",
        "    text = ''.join(filter(str.isalpha, file.read())).lower()\n",
        "\n",
        "# Загальна кількість літер\n",
        "total = len(text)\n",
        "\n",
        "# Підрахунок літер і обчислення відсотків\n",
        "letter_counts = {}\n",
        "for letter in string.ascii_lowercase:\n",
        "    count = text.count(letter)\n",
        "    percentage = (count / total) * 100\n",
        "    letter_counts[letter] = (count, round(percentage, 3))\n",
        "\n",
        "# Перетворюємо словник у список для сортування\n",
        "\n",
        "percentages = [\n",
        "    (letter, letter_counts[letter][0], letter_counts[letter][1]) for letter in letter_counts\n",
        "]\n",
        "\n",
        "# Сортування за відсотками\n",
        "percentages.sort(key=lambda item: (-item[2], item[0] != 'e'))\n",
        "\n",
        "print(\"перші 5 літер:\")\n",
        "for letter, count, percentage in percentages[:5]:\n",
        "    print(f\"{letter.upper()}: {percentage}% ({count})\")\n",
        "\n",
        "print(\"Останні 5 літер:\")\n",
        "for letter, count, percentage in percentages[-5:]:\n",
        "    print(f\"{letter.upper()}: {percentage}% ({count})\")\n",
        "\n"
      ]
    },
    {
      "cell_type": "markdown",
      "metadata": {
        "id": "A34oz70eU463"
      },
      "source": [
        "### **Завдання 2 (1,5 бали)**\n",
        "\n",
        "Архів archive.zip містить 140 txt-файлів, в яких збережено інфорамцію про те, якими іменами називали дітей у США в період з 1880 по 2019 рік.\n",
        "\n",
        "Структура рядка кожного файлу така:\n",
        "\n",
        "*name,sex,number_of_occurrences*\n",
        "\n",
        "Напишіть програму, яка зчитуватиме кожен файл та визначатиме окремо чоловічі, окремо жіночі імена, що були найпопулярнішими хоча б в один з років. Далі програма повинна підраховувати, скільки разів кожне з цих імен ставало найпопулярнишим, та виводити ранжовані списки чоловічіх та жіночих імен у вигляді:\n",
        "\n",
        "```\n",
        "Michael 44\n",
        "John 44\n",
        "Robert 17\n",
        "...\n",
        "\n",
        "Mary 76\n",
        "Jennifer 15\n",
        "Emily 12\n",
        "...\n",
        "```"
      ]
    },
    {
      "cell_type": "code",
      "execution_count": null,
      "metadata": {},
      "outputs": [],
      "source": []
    }
  ],
  "metadata": {
    "colab": {
      "collapsed_sections": [],
      "name": "Practice_14_KM_01.ipynb",
      "provenance": []
    },
    "kernelspec": {
      "display_name": "Python 3",
      "name": "python3"
    },
    "language_info": {
      "codemirror_mode": {
        "name": "ipython",
        "version": 3
      },
      "file_extension": ".py",
      "mimetype": "text/x-python",
      "name": "python",
      "nbconvert_exporter": "python",
      "pygments_lexer": "ipython3",
      "version": "3.12.5"
    }
  },
  "nbformat": 4,
  "nbformat_minor": 0
}
