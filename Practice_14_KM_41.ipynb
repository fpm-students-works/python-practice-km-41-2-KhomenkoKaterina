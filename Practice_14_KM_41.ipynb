{
  "cells": [
    {
      "cell_type": "markdown",
      "metadata": {
        "id": "FMqboNwO4rVs"
      },
      "source": [
        "# **Курс \"Програмування на мові Python\"**"
      ]
    },
    {
      "cell_type": "markdown",
      "metadata": {
        "id": "A2T6MigL5Z06"
      },
      "source": [
        "## **Практичне зайняття №16**\n",
        "\n",
        "### Тема: \"Декоратори\""
      ]
    },
    {
      "cell_type": "markdown",
      "metadata": {},
      "source": [
        "### **Завдання 1 (3 бали)**\n",
        "\n",
        "Реалізуйте підрахунок площі трикутника з використанням декоратора, який перевірятиме можливість побудови трикутника з трьох введених користувачем сторін.\n",
        "\n",
        "1. Напишіть функцію area_calculation, яка підраховуватиме площу трикутника за трьома сторонами. Для підрахунку можете скористатись формулою Герона.\n",
        "\n",
        "2. Напишіть функцію check, яка перевірятиме правильність введених користувачем значень (значення мають бути додатними числами, не обов'язково цілими).\n",
        "\n",
        "3. Створіть декоратор triangle_ineq, який перевірятиме виконання нерівності трикутрика для трьох заданих користувачем сторін. Навісьте декоратор triangle_ineq на функція area_calculation та перевірте правильність роботи програми."
      ]
    },
    {
      "cell_type": "code",
      "execution_count": 1,
      "metadata": {},
      "outputs": [],
      "source": [
        "import math\n",
        "# input side triangle \n",
        "a = float(input(\"Enter the first side: \"))\n",
        "b = float(input(\"Enter the second side: \"))\n",
        "c = float(input(\"Enter the third side: \"))\n",
        "\n",
        "def triangle_ineq(func):\n",
        "    \"\"\" checks the correctness of the values entered by the user (values must be positive numbers, not necessarily integers) \"\"\"\n",
        "    def wrapper(a, b, c):\n",
        "        check(a, b, c)  \n",
        "        if (a + b > c) and (a + c > b) and (b + c > a):\n",
        "            return func(a, b, c)  \n",
        "        else:\n",
        "            print(\"It is impossible to build a triangle with such sides.\")\n",
        "    return wrapper\n",
        "\n",
        "@triangle_ineq # hung by a decorator that checks\n",
        "\n",
        "def area_calculation(a, b, c):  # area calculation\n",
        "    p = (a + b + c)/2\n",
        "    square = math.sqrt(p*(p - a)*(p - b)*(p-c))\n",
        "    return square\n",
        "\n",
        "def check(a, b, c): \n",
        "    ''' A decorator that will check if the triangle inequality is met for three user-defined sides '''\n",
        "    if a <= 0 or b <= 0 or c <= 0:\n",
        "        print(\"The sides of the triangle must be positive numbers.\")\n",
        "    return True\n",
        "area = area_calculation(a, b, c)\n",
        "if area is not None:\n",
        "    print(f\"Area of the triangle: {area:.3}\")\n",
        "else:\n",
        "    print(\"Area could not be calculated.\")"
      ]
    }
  ],
  "metadata": {
    "colab": {
      "collapsed_sections": [],
      "name": "Practice_10-11_KM_01_.ipynb",
      "provenance": []
    },
    "kernelspec": {
      "display_name": "Python 3",
      "name": "python3"
    },
    "language_info": {
      "codemirror_mode": {
        "name": "ipython",
        "version": 3
      },
      "file_extension": ".py",
      "mimetype": "text/x-python",
      "name": "python",
      "nbconvert_exporter": "python",
      "pygments_lexer": "ipython3",
      "version": "3.12.5"
    }
  },
  "nbformat": 4,
  "nbformat_minor": 0
}
