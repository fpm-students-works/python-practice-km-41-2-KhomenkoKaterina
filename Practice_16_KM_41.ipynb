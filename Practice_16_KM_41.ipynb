{
  "cells": [
    {
      "cell_type": "markdown",
      "metadata": {
        "id": "FMqboNwO4rVs"
      },
      "source": [
        "# **Курс \"Програмування на мові Python\"**"
      ]
    },
    {
      "cell_type": "markdown",
      "metadata": {
        "id": "A2T6MigL5Z06"
      },
      "source": [
        "## **Практичне зайняття №14**\n",
        "\n",
        "### Тема: \"Робота зі спеціальними форматами файлів\""
      ]
    },
    {
      "cell_type": "markdown",
      "metadata": {
        "id": "A34oz70eU463"
      },
      "source": [
        "### **Завдання 1 (1,5 бали)**\n",
        "\n",
        "Створіть CSV-файл, що буде містити від 5 до 10 пісень (творів) вашого улюбленого музиканта. Назва файлу - ім'я музиканта (композитора) або назва гурту.\n",
        "\n",
        "1. Обов'язково додайте до файлу рядок з назвами двох колонок (Song, Year) або (Composition, Year).\n",
        "\n",
        "2. Після запису файлу роздрукуйте назву файлу та усі наявні у файлі рядки (включно із заголовками).\n",
        "\n",
        "3. Для запису та зчитування рядків скористайтесь функціями csv.DictWriter() та csv.DictReader()."
      ]
    },
    {
      "cell_type": "code",
      "execution_count": 1,
      "metadata": {
        "id": "MEJIrG1GU463"
      },
      "outputs": [
        {
          "name": "stdout",
          "output_type": "stream",
          "text": [
            "Crearting CSV file\n",
            "Starting to read dict CSV example\n",
            "Song Year \n",
            "----------------------\n",
            "Flowers 2024\n",
            "Adore you 2013\n",
            "Gimme What I Want 2020\n",
            "High 2020\n",
            "Midnight Sky 2020\n",
            "Plastic Hearts 2020\n",
            "Done\n"
          ]
        }
      ],
      "source": [
        "import csv\n",
        "\n",
        "print('Crearting CSV file')\n",
        "\n",
        "# створення вмісту файлу\n",
        "with open('mileycyrus.csv', 'w', newline='') as csvfile:\n",
        "    fieldnames = ['Song', 'Year']\n",
        "    writer = csv.DictWriter(csvfile, fieldnames=fieldnames)\n",
        "    writer.writeheader()\n",
        "    writer.writerow({'Song': 'Flowers',\n",
        "                     'Year': '2024'})\n",
        "    writer.writerow({'Song': 'Adore you',\n",
        "                     'Year': '2013'})\n",
        "    writer.writerow({'Song': 'Gimme What I Want',\n",
        "                     'Year': '2020'})\n",
        "    writer.writerow({'Song': 'High',\n",
        "                     'Year': '2020'})\n",
        "    writer.writerow({'Song':'Midnight Sky',\n",
        "                     'Year': '2020'})\n",
        "    writer.writerow({'Song': 'Plastic Hearts',\n",
        "                     'Year': '2020'})\n",
        "      \n",
        "\n",
        "# Читання та виведення вмісту CSV-файлу\n",
        "\n",
        "print('Starting to read dict CSV example')\n",
        "with open('mileycyrus.csv', newline='') as csvfile:\n",
        "    reader = csv.DictReader(csvfile)\n",
        "    for heading in reader.fieldnames:\n",
        "        print(heading, end=' ')\n",
        "    print('\\n----------------------')\n",
        "    for row in reader:\n",
        "        print(row['Song'], row['Year'])\n",
        "print('Done')\n",
        "\n"
      ]
    },
    {
      "cell_type": "markdown",
      "metadata": {
        "id": "Jb-eSBsWU464"
      },
      "source": [
        "### **Завдання 2 (1,5 бали)**\n",
        "\n",
        "COCO Dataset - набір фотографій та анотацій до них. Його дуже часто використовують для тренування класифікаторів, призначених для розпізнавання об'єктів та визначення ключових точок на зображеннях.\n",
        "\n",
        "Завантажте файли з описом фотографій COCO Dataset за посиланням: [COCO Dataset](http://images.cocodataset.org/annotations/image_info_test2017.zip).\n",
        "\n",
        "Відкрийте файл image_info_test-dev2017.json. Інформація про фотографії з бази COCO міститься у полі \"images\". Інформація про категорії, на які розділені всі фотографії, міститься у полі \"categories\".\n",
        "\n",
        "1. Визначте кількість фотографій, інформацію про які можна знайти у цьому файлі (кількість елементів, що відповідають ключу \"images\").\n",
        "\n",
        "2. Визначте кількість наявних категорій (кількість елементів, що відповідають ключу \"categories\").\n",
        "\n",
        "3. Виведіть посилання на фотографію 000000000001.jpg (\"coco_url\"). Також виведіть висоту цієї фотографії (\"height\"), ширину (\"width\") та її ідентифікатор (\"id\").\n",
        "\n",
        "4. Виведіть назву фотографії з набільшим номером.\n",
        "\n",
        "Опис структури JSON-файлу для набору фотографій COCO можна знайти за посиланням: [Data format](https://cocodataset.org/#format-data).\n",
        "\n",
        "Щоб перевірити правильність результатів, у VS Code встановіть розширення JSON та відкрийте файл image_info_test-dev2017.json. Розширення автоматично визначає кількість елементів у кожному полі."
      ]
    },
    {
      "cell_type": "code",
      "execution_count": 9,
      "metadata": {},
      "outputs": [
        {
          "name": "stdout",
          "output_type": "stream",
          "text": [
            "Numbers of images: 20288\n",
            "Numbers of categories : 80\n",
            "Info about 000000000001.jpg:\n",
            "link: http://images.cocodataset.org/test2017/000000000001.jpg\n",
            "height: 480\n",
            "width: 640\n",
            "Ідентифікатор: 1\n",
            "\n",
            "Photo with max number:\n",
            "000000581918.jpg\n"
          ]
        },
        {
          "ename": "",
          "evalue": "",
          "output_type": "error",
          "traceback": [
            "\u001b[1;31mThe Kernel crashed while executing code in the current cell or a previous cell. \n",
            "\u001b[1;31mPlease review the code in the cell(s) to identify a possible cause of the failure. \n",
            "\u001b[1;31mClick <a href='https://aka.ms/vscodeJupyterKernelCrash'>here</a> for more info. \n",
            "\u001b[1;31mView Jupyter <a href='command:jupyter.viewOutput'>log</a> for further details."
          ]
        }
      ],
      "source": [
        "import json\n",
        "\n",
        "with open('image_info_test-dev2017.json') as f:\n",
        "    data = json.load(f)\n",
        "\n",
        "# кількість фотографій \n",
        "images = len(data.get('images', []))\n",
        "print(f'Numbers of images: {images}')\n",
        "\n",
        "# кількість категорій \n",
        "categories = len(data.get(\"categories\", []))\n",
        "print(f'Numbers of categories : {categories}')\n",
        "\n",
        "# Знаходимо фотографію \"000000000001.jpg\" та її деталі\n",
        "image = None\n",
        "for photo in data ['images']:\n",
        "    if photo ['file_name'] == '000000000001.jpg':\n",
        "        image = photo\n",
        "        break\n",
        "if image:\n",
        "    print(\"Info about 000000000001.jpg:\")\n",
        "    print(f\"link: {image['coco_url']}\")\n",
        "    print(f\"height: {image['height']}\")\n",
        "    print(f\"width: {image['width']}\")\n",
        "    print(f\"Ідентифікатор: {image['id']}\")\n",
        "\n",
        "# фотографія з найбільшим номером \n",
        "number_photo = max(data[\"images\"], key=lambda photo: int(photo[\"file_name\"].split('.')[0]))\n",
        "print(\"\\nPhoto with max number:\")\n",
        "print(number_photo[\"file_name\"])\n",
        "\n"
      ]
    }
  ],
  "metadata": {
    "colab": {
      "collapsed_sections": [],
      "name": "Practice_14_KM_01.ipynb",
      "provenance": []
    },
    "kernelspec": {
      "display_name": "Python 3",
      "name": "python3"
    },
    "language_info": {
      "codemirror_mode": {
        "name": "ipython",
        "version": 3
      },
      "file_extension": ".py",
      "mimetype": "text/x-python",
      "name": "python",
      "nbconvert_exporter": "python",
      "pygments_lexer": "ipython3",
      "version": "3.12.5"
    }
  },
  "nbformat": 4,
  "nbformat_minor": 0
}
